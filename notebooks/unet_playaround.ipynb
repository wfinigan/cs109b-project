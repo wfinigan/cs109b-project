{
 "cells": [
  {
   "cell_type": "code",
   "execution_count": 122,
   "metadata": {},
   "outputs": [],
   "source": [
    "from unet_extras.zf_unet_224_model import ZF_UNET_224, dice_coef_loss, dice_coef\n",
    "from keras.optimizers import Adam\n",
    "from keras.preprocessing.image import ImageDataGenerator\n",
    "import keras.backend as K\n",
    "import matplotlib.pyplot as plt\n",
    "import numpy as np\n",
    "import pandas as pd"
   ]
  },
  {
   "cell_type": "code",
   "execution_count": 126,
   "metadata": {},
   "outputs": [],
   "source": [
    "K.clear_session()"
   ]
  },
  {
   "cell_type": "markdown",
   "metadata": {},
   "source": [
    "## Global Params\n"
   ]
  },
  {
   "cell_type": "code",
   "execution_count": 123,
   "metadata": {},
   "outputs": [],
   "source": [
    "DATA_DIR = '../clean_data'\n",
    "\n",
    "NUM_SAMPLES_TRAIN = 776\n",
    "\n",
    "TARGET_SIZE = (224, 224)\n",
    "BATCH_SIZE = 16"
   ]
  },
  {
   "cell_type": "markdown",
   "metadata": {},
   "source": [
    "# Unet for General Mass Detection"
   ]
  },
  {
   "cell_type": "code",
   "execution_count": 118,
   "metadata": {},
   "outputs": [
    {
     "name": "stdout",
     "output_type": "stream",
     "text": [
      "Found 776 images belonging to 1 classes.\n",
      "Found 776 images belonging to 1 classes.\n"
     ]
    }
   ],
   "source": [
    "# use same seed for images and masks\n",
    "seed = 109\n",
    "\n",
    "im_fit_datagen = ImageDataGenerator()\n",
    "im_fit_generator = im_fit_datagen.flow_from_directory(\n",
    "    f'{DATA_DIR}/mass/train/images',\n",
    "    target_size=TARGET_SIZE,\n",
    "    batch_size=NUM_SAMPLES_TRAIN,\n",
    "    class_mode=None,\n",
    "    seed=seed\n",
    ")\n",
    "\n",
    "mask_fit_datagen = ImageDataGenerator()\n",
    "mask_fit_generator = mask_fit_datagen.flow_from_directory(\n",
    "    f'{DATA_DIR}/mass/train/masks',\n",
    "    target_size=TARGET_SIZE,\n",
    "    batch_size=NUM_SAMPLES_TRAIN,\n",
    "    class_mode=None,\n",
    "    seed=seed,\n",
    "    color_mode='grayscale'\n",
    ")\n",
    "\n",
    "images = next(im_fit_generator)\n",
    "masks = next(mask_fit_generator)"
   ]
  },
  {
   "cell_type": "code",
   "execution_count": 63,
   "metadata": {},
   "outputs": [
    {
     "name": "stdout",
     "output_type": "stream",
     "text": [
      "Found 621 images belonging to 1 classes.\n",
      "Found 155 images belonging to 1 classes.\n",
      "Found 621 images belonging to 1 classes.\n",
      "Found 155 images belonging to 1 classes.\n"
     ]
    }
   ],
   "source": [
    "# we create two instances with the same arguments\n",
    "data_gen_args = dict(\n",
    "    featurewise_center=True,\n",
    "    featurewise_std_normalization=True,\n",
    "    rotation_range=90,\n",
    "    width_shift_range=0.1,\n",
    "    height_shift_range=0.1,\n",
    "    zoom_range=0.2,\n",
    "    validation_split=.2,\n",
    "    rescale=1./255,\n",
    ")\n",
    "\n",
    "image_datagen = ImageDataGenerator(**data_gen_args)\n",
    "mask_datagen = ImageDataGenerator(**data_gen_args)\n",
    "\n",
    "# Provide the same seed and keyword arguments to the fit and flow methods\n",
    "seed = 1\n",
    "image_datagen.fit(images, augment=True, seed=seed)\n",
    "mask_datagen.fit(masks, augment=True, seed=seed)\n",
    "\n",
    "image_train_generator = image_datagen.flow_from_directory(\n",
    "    f'{DATA_DIR}/mass/train/images',\n",
    "    class_mode=None,\n",
    "    seed=seed,\n",
    "    subset='training',\n",
    "    target_size=TARGET_SIZE,\n",
    "    batch_size=BATCH_SIZE,\n",
    ")\n",
    "\n",
    "image_val_generator = image_datagen.flow_from_directory(\n",
    "    f'{DATA_DIR}/mass/train/images',\n",
    "    class_mode=None,\n",
    "    seed=seed,\n",
    "    subset='validation',\n",
    "    target_size=TARGET_SIZE,\n",
    "    batch_size=BATCH_SIZE,\n",
    ")\n",
    "\n",
    "mask_train_generator = mask_datagen.flow_from_directory(\n",
    "    f'{DATA_DIR}/mass/train/masks',\n",
    "    class_mode=None,\n",
    "    seed=seed,\n",
    "    subset='training',\n",
    "    target_size=TARGET_SIZE,\n",
    "    batch_size=BATCH_SIZE,\n",
    "    color_mode='grayscale'\n",
    ")\n",
    "\n",
    "mask_val_generator = mask_datagen.flow_from_directory(\n",
    "    f'{DATA_DIR}/mass/train/masks',\n",
    "    class_mode=None,\n",
    "    seed=seed,\n",
    "    subset='validation',\n",
    "    target_size=TARGET_SIZE,\n",
    "    batch_size=BATCH_SIZE,\n",
    "    color_mode='grayscale'\n",
    ")\n",
    "\n",
    "# combine generators into one which yields image and masks\n",
    "train_generator = zip(image_train_generator, mask_train_generator)\n",
    "val_generator = zip(image_val_generator, mask_val_generator)"
   ]
  },
  {
   "cell_type": "code",
   "execution_count": 64,
   "metadata": {},
   "outputs": [],
   "source": [
    "data_generator_image_test = ImageDataGenerator(rescale=1./255)\n",
    "data_generator_mask_test = ImageDataGenerator(rescale=1./255)\n",
    "\n",
    "image_test_generator = data_generator_image_test.flow_from_directory(\n",
    "    f'{DATA_DIR}/mass/test/images',\n",
    "    class_mode=None,\n",
    "    seed=seed,\n",
    "    target_size=TARGET_SIZE,\n",
    "    color_mode='rgb'\n",
    ")\n",
    "\n",
    "mask_test_generator = data_generator_mask_test.flow_from_directory(\n",
    "    f'{DATA_DIR}/mass/test/masks',\n",
    "    class_mode=None,\n",
    "    seed=seed,\n",
    "    target_size=TARGET_SIZE\n",
    ")\n",
    "\n",
    "test_generator = zip(image_test_generator, mask_test_generator)"
   ]
  },
  {
   "cell_type": "code",
   "execution_count": 128,
   "metadata": {},
   "outputs": [
    {
     "data": {
      "text/plain": [
       "'conv2d_104'"
      ]
     },
     "execution_count": 128,
     "metadata": {},
     "output_type": "execute_result"
    }
   ],
   "source": [
    "model.layers[39].name"
   ]
  },
  {
   "cell_type": "code",
   "execution_count": 147,
   "metadata": {},
   "outputs": [],
   "source": [
    "model = ZF_UNET_224(weights='generator')\n",
    "optim = Adam()\n",
    "\n",
    "for i in range(44):\n",
    "    model.layers[i].trainable = False\n",
    "\n",
    "model.compile(optimizer=optim, loss=dice_coef_loss, metrics=[dice_coef])"
   ]
  },
  {
   "cell_type": "code",
   "execution_count": null,
   "metadata": {},
   "outputs": [
    {
     "name": "stdout",
     "output_type": "stream",
     "text": [
      "Epoch 1/30\n",
      "150/150 [==============================] - 94s 628ms/step - loss: 0.1627 - dice_coef: -0.1627 - val_loss: 1.7826e-05 - val_dice_coef: -1.7826e-05\n",
      "Epoch 2/30\n",
      "150/150 [==============================] - 87s 578ms/step - loss: 0.1665 - dice_coef: -0.1665 - val_loss: 1.7830e-05 - val_dice_coef: -1.7830e-05\n",
      "Epoch 3/30\n",
      " 93/150 [=================>............] - ETA: 30s - loss: 0.1657 - dice_coef: -0.1657"
     ]
    }
   ],
   "source": [
    "history = model.fit_generator(\n",
    "    train_generator,\n",
    "    steps_per_epoch=150,\n",
    "    epochs=30,\n",
    "    validation_data=val_generator,\n",
    "    validation_steps=30\n",
    ")"
   ]
  },
  {
   "cell_type": "code",
   "execution_count": 139,
   "metadata": {},
   "outputs": [
    {
     "name": "stdout",
     "output_type": "stream",
     "text": [
      "32/32 [==============================] - 15s 479ms/step\n"
     ]
    }
   ],
   "source": [
    "# get batch of test images for plotting\n",
    "im, mask = next(test_generator)\n",
    "\n",
    "pred = model.predict(im, steps=len(im), verbose = 1)"
   ]
  },
  {
   "cell_type": "code",
   "execution_count": 140,
   "metadata": {},
   "outputs": [],
   "source": [
    "def show_predictions(ims, masks, preds, index=0):\n",
    "    fig, ax = plt.subplots(1, 3, figsize=[8, 4])\n",
    "    \n",
    "    ax[0].imshow(ims[index])\n",
    "    ax[1].imshow(masks[index])\n",
    "    ax[2].imshow(preds[index].reshape(224, 224), cmap='gray')\n",
    "    \n",
    "    ax[0].set_title('Original image')\n",
    "    ax[1].set_title('True mask')\n",
    "    ax[2].set_title('Predicted mask')"
   ]
  },
  {
   "cell_type": "code",
   "execution_count": 146,
   "metadata": {},
   "outputs": [
    {
     "data": {
      "image/png": "[encoded data removed]",
      "text/plain": [
       "<Figure size 576x288 with 3 Axes>"
      ]
     },
     "metadata": {
      "needs_background": "light"
     },
     "output_type": "display_data"
    }
   ],
   "source": [
    "show_predictions(im, mask, pred, 0)"
   ]
  },
  {
   "cell_type": "markdown",
   "metadata": {},
   "source": [
    "# Unet for Malignant Mass Detection\n",
    "\n",
    "In this case, we want our UNET to only give masks for malignant masses. To do this, we will train using all black masses for benign samples and normal masks for malignant ones."
   ]
  },
  {
   "cell_type": "markdown",
   "metadata": {},
   "source": [
    "## Data Prep\n",
    "\n",
    "We will do most of the same dataprep as above."
   ]
  },
  {
   "cell_type": "code",
   "execution_count": null,
   "metadata": {},
   "outputs": [],
   "source": [
    "# first, get the masks in memory so that we can fit the image augmentation\n",
    "mask_bb_fit_datagen = ImageDataGenerator()\n",
    "mask_bb_fit_generator = mask_bb_fit_datagen.flow_from_directory(\n",
    "    f'{DATA_DIR}/mass/train/mask_blackbox',\n",
    "    target_size=TARGET_SIZE,\n",
    "    batch_size=NUM_SAMPLES,\n",
    "    class_mode=None,\n",
    "    seed=seed,\n",
    "    color_mode='grayscale'\n",
    ")\n",
    "\n",
    "masks_bb = next(mask_bb_fit_generator)"
   ]
  },
  {
   "cell_type": "code",
   "execution_count": null,
   "metadata": {},
   "outputs": [],
   "source": [
    "# recreate our generators to ensure seed hasn't changed (using same args from above)\n",
    "image_bb_datagen = ImageDataGenerator(**data_gen_args)\n",
    "mask_bb_datagen = ImageDataGenerator(**data_gen_args)\n",
    "\n",
    "# use the same seed for masks and images throughout so they line up correctly\n",
    "seed = 1\n",
    "image_bb_datagen.fit(images, augment=True, seed=seed)\n",
    "mask_bb_datagen.fit(masks_bb, augment=True, seed=seed)\n",
    "\n",
    "image_bb_train_generator = image_bb_datagen.flow_from_directory(\n",
    "    f'{DATA_DIR}/mass/train/images',\n",
    "    class_mode=None,\n",
    "    seed=seed,\n",
    "    subset='training',\n",
    "    target_size=TARGET_SIZE,\n",
    "    batch_size=BATCH_SIZE,\n",
    ")\n",
    "\n",
    "image_bb_val_generator = image_datagen.flow_from_directory(\n",
    "    f'{DATA_DIR}/mass/train/images',\n",
    "    class_mode=None,\n",
    "    seed=seed,\n",
    "    subset='validation',\n",
    "    target_size=TARGET_SIZE,\n",
    "    batch_size=BATCH_SIZE,\n",
    ")\n",
    "\n",
    "mask_bb_train_generator = mask_bb_datagen.flow_from_directory(\n",
    "    f'{DATA_DIR}/mass/train/mask_blackbox',\n",
    "    class_mode=None,\n",
    "    seed=seed,\n",
    "    subset='training',\n",
    "    target_size=TARGET_SIZE,\n",
    "    batch_size=BATCH_SIZE,\n",
    "    color_mode='grayscale'\n",
    ")\n",
    "\n",
    "mask_bb_val_generator = mask_bb_datagen.flow_from_directory(\n",
    "    f'{DATA_DIR}/mass/train/mask_blackbox',\n",
    "    class_mode=None,\n",
    "    seed=seed,\n",
    "    subset='validation',\n",
    "    target_size=TARGET_SIZE,\n",
    "    batch_size=BATCH_SIZE,\n",
    "    color_mode='grayscale'\n",
    ")\n",
    "\n",
    "# combine generators into one which yields image and masks\n",
    "train_bb_generator = zip(image_bb_train_generator, mask_bb_train_generator)\n",
    "val_bb_generator = zip(image_bb_val_generator, mask_bb_val_generator)"
   ]
  },
  {
   "cell_type": "markdown",
   "metadata": {},
   "source": [
    "### Recompile and Fit Model"
   ]
  },
  {
   "cell_type": "code",
   "execution_count": null,
   "metadata": {},
   "outputs": [],
   "source": [
    "model = ZF_UNET_224(weights='generator')\n",
    "\n",
    "for i in range(len(model.layers) - 6):\n",
    "    model.layers[i].trainable = False\n",
    "\n",
    "model.compile(optimizer=Adam(), loss=dice_coef_loss, metrics=[dice_coef])\n",
    "\n",
    "model.fit_generator(\n",
    "    train_generator,\n",
    "    steps_per_epoch=1500,\n",
    "    epochs=10,\n",
    "    validation_data=val_generator,\n",
    "    validation_steps=150\n",
    ")"
   ]
  },
  {
   "cell_type": "markdown",
   "metadata": {},
   "source": [
    "### Set up testing data"
   ]
  },
  {
   "cell_type": "code",
   "execution_count": null,
   "metadata": {},
   "outputs": [],
   "source": [
    "# again need to recreate to ensure correct alignment\n",
    "data_generator_image_bb_test = ImageDataGenerator(rescale=1./255)\n",
    "data_generator_mask_bb_test = ImageDataGenerator(rescale=1./255)\n",
    "\n",
    "image_bb_test_generator = data_generator_image_bb_test.flow_from_directory(\n",
    "    f'{DATA_DIR}/mass/test/images',\n",
    "    class_mode=None,\n",
    "    seed=seed,\n",
    "    target_size=TARGET_SIZE,\n",
    "    color_mode='rgb'\n",
    ")\n",
    "\n",
    "mask_bb_test_generator = data_generator_mask_bb_test.flow_from_directory(\n",
    "    f'{DATA_DIR}/mass/test/mask_blackbox',\n",
    "    class_mode=None,\n",
    "    seed=seed,\n",
    "    target_size=TARGET_SIZE\n",
    ")\n",
    "\n",
    "test_bb_generator = zip(image_bb_test_generator, mask_bb_test_generator)"
   ]
  }
 ],
 "metadata": {
  "kernelspec": {
   "display_name": "Python 3",
   "language": "python",
   "name": "python3"
  },
  "language_info": {
   "codemirror_mode": {
    "name": "ipython",
    "version": 3
   },
   "file_extension": ".py",
   "mimetype": "text/x-python",
   "name": "python",
   "nbconvert_exporter": "python",
   "pygments_lexer": "ipython3",
   "version": "3.6.8"
  }
 },
 "nbformat": 4,
 "nbformat_minor": 2
}
