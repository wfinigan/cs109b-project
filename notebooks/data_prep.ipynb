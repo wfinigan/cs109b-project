{
 "cells": [
  {
   "cell_type": "code",
   "execution_count": 1,
   "metadata": {},
   "outputs": [
    {
     "name": "stderr",
     "output_type": "stream",
     "text": [
      "Using TensorFlow backend.\n"
     ]
    },
    {
     "data": {
      "text/html": [
       "<style>\n",
       "blockquote { background: #AEDE94; }\n",
       "h1 { \n",
       "    padding-top: 25px;\n",
       "    padding-bottom: 25px;\n",
       "    text-align: left; \n",
       "    padding-left: 10px;\n",
       "    background-color: #DDDDDD; \n",
       "    color: black;\n",
       "}\n",
       "h2 { \n",
       "    padding-top: 10px;\n",
       "    padding-bottom: 10px;\n",
       "    text-align: left; \n",
       "    padding-left: 5px;\n",
       "    background-color: #EEEEEE; \n",
       "    color: black;\n",
       "}\n",
       "\n",
       "div.exercise {\n",
       "\tbackground-color: #ffcccc;\n",
       "\tborder-color: #E9967A; \t\n",
       "\tborder-left: 5px solid #800080; \n",
       "\tpadding: 0.5em;\n",
       "}\n",
       "\n",
       "span.sub-q {\n",
       "\tfont-weight: bold;\n",
       "}\n",
       "div.theme {\n",
       "\tbackground-color: #DDDDDD;\n",
       "\tborder-color: #E9967A; \t\n",
       "\tborder-left: 5px solid #800080; \n",
       "\tpadding: 0.5em;\n",
       "\tfont-size: 18pt;\n",
       "}\n",
       "div.gc { \n",
       "\tbackground-color: #AEDE94;\n",
       "\tborder-color: #E9967A; \t \n",
       "\tborder-left: 5px solid #800080; \n",
       "\tpadding: 0.5em;\n",
       "\tfont-size: 12pt;\n",
       "}\n",
       "p.q1 { \n",
       "    padding-top: 5px;\n",
       "    padding-bottom: 5px;\n",
       "    text-align: left; \n",
       "    padding-left: 5px;\n",
       "    background-color: #EEEEEE; \n",
       "    color: black;\n",
       "}\n",
       "header {\n",
       "   padding-top: 35px;\n",
       "    padding-bottom: 35px;\n",
       "    text-align: left; \n",
       "    padding-left: 10px;\n",
       "    background-color: #DDDDDD; \n",
       "    color: black;\n",
       "}\n",
       "</style>\n",
       "\n"
      ],
      "text/plain": [
       "<IPython.core.display.HTML object>"
      ]
     },
     "execution_count": 1,
     "metadata": {},
     "output_type": "execute_result"
    }
   ],
   "source": [
    "import pandas as pd\n",
    "import numpy as np\n",
    "import datetime\n",
    "import matplotlib.pyplot as plt\n",
    "from sklearn.preprocessing import PolynomialFeatures\n",
    "import pydicom as dicom\n",
    "import scipy.misc\n",
    "from glob import glob\n",
    "import os\n",
    "\n",
    "#PLEASE RUN THIS CELL \n",
    "import requests\n",
    "import os\n",
    "\n",
    "import warnings\n",
    "warnings.filterwarnings('ignore')\n",
    "\n",
    "import matplotlib.pyplot as plt\n",
    "import numpy as np\n",
    "import pandas as pd\n",
    "import pydicom as dicom\n",
    "\n",
    "from skimage.io import imread\n",
    "from scipy.misc import imresize\n",
    "from sklearn.model_selection import train_test_split\n",
    "\n",
    "\n",
    "from keras.models import Sequential, Model, load_model\n",
    "from keras.layers import *\n",
    "from keras.utils import np_utils, to_categorical\n",
    "from keras.losses import binary_crossentropy\n",
    "from keras import backend as K,objectives\n",
    "from keras.losses import mse, binary_crossentropy\n",
    "from keras.layers.advanced_activations import LeakyReLU\n",
    "from keras.optimizers import Adam, RMSprop\n",
    "from keras.initializers import RandomNormal\n",
    "from keras.preprocessing import image\n",
    "\n",
    "import random\n",
    "\n",
    "\n",
    "from IPython.core.display import HTML\n",
    "styles = requests.get(\"https://raw.githubusercontent.com/Harvard-IACS/2018-CS109A/master/content/styles/cs109.css\").text\n",
    "HTML(styles)"
   ]
  },
  {
   "cell_type": "code",
   "execution_count": 10,
   "metadata": {
    "collapsed": true
   },
   "outputs": [],
   "source": [
    "import cv2"
   ]
  },
  {
   "cell_type": "code",
   "execution_count": 2,
   "metadata": {
    "collapsed": true
   },
   "outputs": [],
   "source": [
    "mass_train_attrs = pd.read_csv('attributes/mass_case_description_train_set.csv')\n",
    "mass_test_attrs = pd.read_csv('attributes/mass_case_description_test_set.csv')"
   ]
  },
  {
   "cell_type": "code",
   "execution_count": 3,
   "metadata": {
    "collapsed": true
   },
   "outputs": [],
   "source": [
    "datasets = [\"mass_training\",\n",
    "            \"mass_testing\"]"
   ]
  },
  {
   "cell_type": "code",
   "execution_count": 16,
   "metadata": {
    "collapsed": true
   },
   "outputs": [],
   "source": [
    "for dataset in datasets:\n",
    "    im_strs = glob('raw_data/' + dataset + '_data/CBIS-DDSM/*/*/*/*')\n",
    "    attrs = []\n",
    "    ids = []\n",
    "\n",
    "    for i in range(len(im_strs)):\n",
    "        try:\n",
    "            im_pxl = dicom.dcmread(im_strs[i]).pixel_array\n",
    "        except ValueError:\n",
    "            print('Error: ')\n",
    "            print(dataset + ' - ' + str(i))\n",
    "        scipy.misc.imsave('images/' + dataset + '/' + str(i) + '.jpg', im_pxl)\n",
    "\n",
    "        attrs.append(im_strs[i].split('/')[3])\n",
    "        ids.append(str(i) + '.jpg') \n",
    "    \n",
    "    attribute_frame = pd.DataFrame()\n",
    "    attribute_frame['attribute'] = attrs\n",
    "    attribute_frame['ids'] = ids\n",
    "    attribute_frame.to_csv('attributes/' + dataset + '_labels.csv')\n",
    "    "
   ]
  },
  {
   "cell_type": "code",
   "execution_count": 34,
   "metadata": {},
   "outputs": [
    {
     "data": {
      "text/plain": [
       "True"
      ]
     },
     "execution_count": 34,
     "metadata": {},
     "output_type": "execute_result"
    }
   ],
   "source": [
    "mass_train_attrs['ROI mask file path'][92].split('/')[1] == mass_train_attrs['cropped image file path'][92].split('/')[1]"
   ]
  },
  {
   "cell_type": "code",
   "execution_count": 33,
   "metadata": {},
   "outputs": [
    {
     "data": {
      "text/plain": [
       "False"
      ]
     },
     "execution_count": 33,
     "metadata": {},
     "output_type": "execute_result"
    }
   ],
   "source": [
    "mass_train_attrs['ROI mask file path'][93].split('/')[1] == mass_train_attrs['cropped image file path'][93].split('/')[1]"
   ]
  },
  {
   "cell_type": "code",
   "execution_count": 35,
   "metadata": {},
   "outputs": [
    {
     "data": {
      "text/html": [
       "<div>\n",
       "<style>\n",
       "    .dataframe thead tr:only-child th {\n",
       "        text-align: right;\n",
       "    }\n",
       "\n",
       "    .dataframe thead th {\n",
       "        text-align: left;\n",
       "    }\n",
       "\n",
       "    .dataframe tbody tr th {\n",
       "        vertical-align: top;\n",
       "    }\n",
       "</style>\n",
       "<table border=\"1\" class=\"dataframe\">\n",
       "  <thead>\n",
       "    <tr style=\"text-align: right;\">\n",
       "      <th></th>\n",
       "      <th>patient_id</th>\n",
       "      <th>breast_density</th>\n",
       "      <th>left or right breast</th>\n",
       "      <th>image view</th>\n",
       "      <th>abnormality id</th>\n",
       "      <th>abnormality type</th>\n",
       "      <th>mass shape</th>\n",
       "      <th>mass margins</th>\n",
       "      <th>assessment</th>\n",
       "      <th>pathology</th>\n",
       "      <th>subtlety</th>\n",
       "      <th>image file path</th>\n",
       "      <th>cropped image file path</th>\n",
       "      <th>ROI mask file path</th>\n",
       "    </tr>\n",
       "  </thead>\n",
       "  <tbody>\n",
       "    <tr>\n",
       "      <th>0</th>\n",
       "      <td>P_00001</td>\n",
       "      <td>3</td>\n",
       "      <td>LEFT</td>\n",
       "      <td>CC</td>\n",
       "      <td>1</td>\n",
       "      <td>mass</td>\n",
       "      <td>IRREGULAR-ARCHITECTURAL_DISTORTION</td>\n",
       "      <td>SPICULATED</td>\n",
       "      <td>4</td>\n",
       "      <td>MALIGNANT</td>\n",
       "      <td>4</td>\n",
       "      <td>Mass-Training_P_00001_LEFT_CC/1.3.6.1.4.1.9590...</td>\n",
       "      <td>Mass-Training_P_00001_LEFT_CC_1/1.3.6.1.4.1.95...</td>\n",
       "      <td>Mass-Training_P_00001_LEFT_CC_1/1.3.6.1.4.1.95...</td>\n",
       "    </tr>\n",
       "    <tr>\n",
       "      <th>1</th>\n",
       "      <td>P_00001</td>\n",
       "      <td>3</td>\n",
       "      <td>LEFT</td>\n",
       "      <td>MLO</td>\n",
       "      <td>1</td>\n",
       "      <td>mass</td>\n",
       "      <td>IRREGULAR-ARCHITECTURAL_DISTORTION</td>\n",
       "      <td>SPICULATED</td>\n",
       "      <td>4</td>\n",
       "      <td>MALIGNANT</td>\n",
       "      <td>4</td>\n",
       "      <td>Mass-Training_P_00001_LEFT_MLO/1.3.6.1.4.1.959...</td>\n",
       "      <td>Mass-Training_P_00001_LEFT_MLO_1/1.3.6.1.4.1.9...</td>\n",
       "      <td>Mass-Training_P_00001_LEFT_MLO_1/1.3.6.1.4.1.9...</td>\n",
       "    </tr>\n",
       "    <tr>\n",
       "      <th>2</th>\n",
       "      <td>P_00004</td>\n",
       "      <td>3</td>\n",
       "      <td>LEFT</td>\n",
       "      <td>CC</td>\n",
       "      <td>1</td>\n",
       "      <td>mass</td>\n",
       "      <td>ARCHITECTURAL_DISTORTION</td>\n",
       "      <td>ILL_DEFINED</td>\n",
       "      <td>4</td>\n",
       "      <td>BENIGN</td>\n",
       "      <td>3</td>\n",
       "      <td>Mass-Training_P_00004_LEFT_CC/1.3.6.1.4.1.9590...</td>\n",
       "      <td>Mass-Training_P_00004_LEFT_CC_1/1.3.6.1.4.1.95...</td>\n",
       "      <td>Mass-Training_P_00004_LEFT_CC_1/1.3.6.1.4.1.95...</td>\n",
       "    </tr>\n",
       "    <tr>\n",
       "      <th>3</th>\n",
       "      <td>P_00004</td>\n",
       "      <td>3</td>\n",
       "      <td>LEFT</td>\n",
       "      <td>MLO</td>\n",
       "      <td>1</td>\n",
       "      <td>mass</td>\n",
       "      <td>ARCHITECTURAL_DISTORTION</td>\n",
       "      <td>ILL_DEFINED</td>\n",
       "      <td>4</td>\n",
       "      <td>BENIGN</td>\n",
       "      <td>3</td>\n",
       "      <td>Mass-Training_P_00004_LEFT_MLO/1.3.6.1.4.1.959...</td>\n",
       "      <td>Mass-Training_P_00004_LEFT_MLO_1/1.3.6.1.4.1.9...</td>\n",
       "      <td>Mass-Training_P_00004_LEFT_MLO_1/1.3.6.1.4.1.9...</td>\n",
       "    </tr>\n",
       "    <tr>\n",
       "      <th>4</th>\n",
       "      <td>P_00004</td>\n",
       "      <td>3</td>\n",
       "      <td>RIGHT</td>\n",
       "      <td>MLO</td>\n",
       "      <td>1</td>\n",
       "      <td>mass</td>\n",
       "      <td>OVAL</td>\n",
       "      <td>CIRCUMSCRIBED</td>\n",
       "      <td>4</td>\n",
       "      <td>BENIGN</td>\n",
       "      <td>5</td>\n",
       "      <td>Mass-Training_P_00004_RIGHT_MLO/1.3.6.1.4.1.95...</td>\n",
       "      <td>Mass-Training_P_00004_RIGHT_MLO_1/1.3.6.1.4.1....</td>\n",
       "      <td>Mass-Training_P_00004_RIGHT_MLO_1/1.3.6.1.4.1....</td>\n",
       "    </tr>\n",
       "  </tbody>\n",
       "</table>\n",
       "</div>"
      ],
      "text/plain": [
       "  patient_id  breast_density left or right breast image view  abnormality id  \\\n",
       "0    P_00001               3                 LEFT         CC               1   \n",
       "1    P_00001               3                 LEFT        MLO               1   \n",
       "2    P_00004               3                 LEFT         CC               1   \n",
       "3    P_00004               3                 LEFT        MLO               1   \n",
       "4    P_00004               3                RIGHT        MLO               1   \n",
       "\n",
       "  abnormality type                          mass shape   mass margins  \\\n",
       "0             mass  IRREGULAR-ARCHITECTURAL_DISTORTION     SPICULATED   \n",
       "1             mass  IRREGULAR-ARCHITECTURAL_DISTORTION     SPICULATED   \n",
       "2             mass            ARCHITECTURAL_DISTORTION    ILL_DEFINED   \n",
       "3             mass            ARCHITECTURAL_DISTORTION    ILL_DEFINED   \n",
       "4             mass                                OVAL  CIRCUMSCRIBED   \n",
       "\n",
       "   assessment  pathology  subtlety  \\\n",
       "0           4  MALIGNANT         4   \n",
       "1           4  MALIGNANT         4   \n",
       "2           4     BENIGN         3   \n",
       "3           4     BENIGN         3   \n",
       "4           4     BENIGN         5   \n",
       "\n",
       "                                     image file path  \\\n",
       "0  Mass-Training_P_00001_LEFT_CC/1.3.6.1.4.1.9590...   \n",
       "1  Mass-Training_P_00001_LEFT_MLO/1.3.6.1.4.1.959...   \n",
       "2  Mass-Training_P_00004_LEFT_CC/1.3.6.1.4.1.9590...   \n",
       "3  Mass-Training_P_00004_LEFT_MLO/1.3.6.1.4.1.959...   \n",
       "4  Mass-Training_P_00004_RIGHT_MLO/1.3.6.1.4.1.95...   \n",
       "\n",
       "                             cropped image file path  \\\n",
       "0  Mass-Training_P_00001_LEFT_CC_1/1.3.6.1.4.1.95...   \n",
       "1  Mass-Training_P_00001_LEFT_MLO_1/1.3.6.1.4.1.9...   \n",
       "2  Mass-Training_P_00004_LEFT_CC_1/1.3.6.1.4.1.95...   \n",
       "3  Mass-Training_P_00004_LEFT_MLO_1/1.3.6.1.4.1.9...   \n",
       "4  Mass-Training_P_00004_RIGHT_MLO_1/1.3.6.1.4.1....   \n",
       "\n",
       "                                  ROI mask file path  \n",
       "0  Mass-Training_P_00001_LEFT_CC_1/1.3.6.1.4.1.95...  \n",
       "1  Mass-Training_P_00001_LEFT_MLO_1/1.3.6.1.4.1.9...  \n",
       "2  Mass-Training_P_00004_LEFT_CC_1/1.3.6.1.4.1.95...  \n",
       "3  Mass-Training_P_00004_LEFT_MLO_1/1.3.6.1.4.1.9...  \n",
       "4  Mass-Training_P_00004_RIGHT_MLO_1/1.3.6.1.4.1....  "
      ]
     },
     "execution_count": 35,
     "metadata": {},
     "output_type": "execute_result"
    }
   ],
   "source": [
    "mass_train_attrs.head()"
   ]
  },
  {
   "cell_type": "code",
   "execution_count": 11,
   "metadata": {
    "collapsed": true
   },
   "outputs": [],
   "source": [
    "DATA_FOLDER = 'raw_data'\n",
    "ATTR_FOLDER = 'attributes'\n",
    "\n",
    "datasets = ['mass']\n",
    "subsets = ['train', 'test']\n",
    "\n",
    "OUTPUT_FOLDER = 'clean_data'\n",
    "IM_OUTPUT = 'images'\n",
    "ROI_OUTPUT = 'masks'\n",
    "CROP_OUTPUT = 'crops'\n",
    "\n",
    "IM_DIMS = (512, 512)"
   ]
  },
  {
   "cell_type": "code",
   "execution_count": 13,
   "metadata": {},
   "outputs": [],
   "source": [
    "for dataset in datasets:\n",
    "    for subset in subsets:\n",
    "        df_attrs = pd.read_csv(f'{ATTR_FOLDER}/{dataset}_case_description_{subset}_set.csv')\n",
    "\n",
    "        for i in range(len(df_attrs)):\n",
    "            # get paths\n",
    "            im_path_lst = df_attrs['image file path'][i].split('/')\n",
    "            roi_path_lst = df_attrs['ROI mask file path'][i].split('/')\n",
    "            crop_path_lst = df_attrs['cropped image file path'][i].split('/')\n",
    "\n",
    "            im_path = glob(\n",
    "                f'{DATA_FOLDER}/{dataset}_{subset}ing_data/CBIS-DDSM/{im_path_lst[0]}/*/*/*'\n",
    "            )\n",
    "    \n",
    "            crop_paths = glob(\n",
    "                f'{DATA_FOLDER}/{dataset}_{subset}ing_ROI_data/CBIS-DDSM/{crop_path_lst[0]}/*/*/*'\n",
    "            )\n",
    "\n",
    "            # if images found for both types save to new folders\n",
    "            if im_path and crop_paths:\n",
    "                \n",
    "                # original image\n",
    "                try:\n",
    "                    im_pxl = dicom.dcmread(im_path[0]).pixel_array\n",
    "                except ValueError:\n",
    "                    print('Error: ')\n",
    "                    print(im_path[0])\n",
    "                \n",
    "                im_pxl = cv2.resize(im_pxl, IM_DIMS)\n",
    "                scipy.misc.imsave(f'{OUTPUT_FOLDER}/{dataset}/{subset}/{IM_OUTPUT}/{i}.tif', im_pxl)\n",
    "\n",
    "                # cropped and masks\n",
    "                crop_path1, crop_path2 = crop_paths\n",
    "                try: \n",
    "                    crop_pxl_1 = dicom.dcmread(crop_path1).pixel_array\n",
    "                    crop_pxl_2 = dicom.dcmread(crop_path2).pixel_array\n",
    "                except ValueError:\n",
    "                    print('Error: ')\n",
    "                    print(crop_path1)\n",
    "\n",
    "                # set temporary values\n",
    "                bigger = crop_pxl_1\n",
    "                smaller = crop_pxl_2\n",
    "                if os.path.getsize(crop_path1) < os.path.getsize(crop_path2):\n",
    "                    bigger = crop_pxl_2\n",
    "                    smaller = crop_pxl_1\n",
    "\n",
    "                smaller = cv2.resize(smaller, IM_DIMS)\n",
    "                bigger = cv2.resize(bigger, IM_DIMS)\n",
    "\n",
    "                scipy.misc.imsave(f'{OUTPUT_FOLDER}/{dataset}/{subset}/{CROP_OUTPUT}/{i}.tif', smaller)\n",
    "                scipy.misc.imsave(f'{OUTPUT_FOLDER}/{dataset}/{subset}/{ROI_OUTPUT}/{i}.tif', bigger)\n"
   ]
  },
  {
   "cell_type": "code",
   "execution_count": null,
   "metadata": {
    "collapsed": true
   },
   "outputs": [],
   "source": [
    "for i in range(mass_train_attrs.shape[0]):\n",
    "    "
   ]
  },
  {
   "cell_type": "code",
   "execution_count": null,
   "metadata": {
    "collapsed": true
   },
   "outputs": [],
   "source": [
    "datasets_ROI = [\"mass_training_ROI\", \"mass_testing_ROI\"]"
   ]
  },
  {
   "cell_type": "code",
   "execution_count": null,
   "metadata": {
    "collapsed": true
   },
   "outputs": [],
   "source": [
    "for dataset in datasets_ROI:\n",
    "    im_strs = glob('raw_data/' + dataset + '_data/CBIS-DDSM/*/')\n",
    "    attrs = []\n",
    "    ids = []\n",
    "\n",
    "    for i in range(len(im_strs)):\n",
    "        if \"Mass-Training_P_00328_RIGHT_CC\" in im_strs[i].split('/')[3]:\n",
    "            print(im_strs[i].split('/')[3])\n",
    "        #print(im_strs[i].split('/')[3])\n",
    "        #attrs.append(im_strs[i].split('/')[3])\n",
    "        #ids.append(str(i) + '.jpg')\n",
    "    \n",
    "    "
   ]
  },
  {
   "cell_type": "code",
   "execution_count": null,
   "metadata": {
    "collapsed": true
   },
   "outputs": [],
   "source": [
    "pic1 = glob(im_strs[i] + '/*/*/*')[0]\n",
    "        pic2 = glob(im_strs[i] + '/*/*/*')[1]\n",
    "        try:\n",
    "            im_pxl_1 = dicom.dcmread(pic1).pixel_array\n",
    "            im_pxl_2 = dicom.dcmread(pic2).pixel_array\n",
    "        except ValueError:\n",
    "            print('Error: ')\n",
    "            print(dataset + ' - ' + str(i))\n",
    "        \n",
    "        if os.path.getsize(pic1) > os.path.getsize(pic2):\n",
    "            scipy.misc.imsave('ROI_images/' + dataset + '/' + str(i) + '.jpg', im_pxl)\n",
    "        else:\n",
    "            scipy.misc.imsave('ROI_images/' + dataset + '/' + str(i) + '.jpg', im_px2)\n",
    "\n",
    "            \n",
    "            \n",
    "            attribute_frame = pd.DataFrame()\n",
    "    attribute_frame['attribute'] = attrs\n",
    "    attribute_frame['ids'] = ids\n",
    "    attribute_frame\n",
    "    attribute_frame.to_csv(dataset + \"_labels.csv\")"
   ]
  },
  {
   "cell_type": "code",
   "execution_count": null,
   "metadata": {
    "collapsed": true
   },
   "outputs": [],
   "source": []
  },
  {
   "cell_type": "code",
   "execution_count": null,
   "metadata": {
    "collapsed": true
   },
   "outputs": [],
   "source": []
  },
  {
   "cell_type": "code",
   "execution_count": null,
   "metadata": {
    "collapsed": true
   },
   "outputs": [],
   "source": []
  },
  {
   "cell_type": "code",
   "execution_count": null,
   "metadata": {
    "collapsed": true
   },
   "outputs": [],
   "source": [
    "m = glob('FinalProject/' + 'mass_training_ROI' + '_data/CBIS-DDSM/*')[0]\n",
    "glob(m + '/*/*/*')"
   ]
  },
  {
   "cell_type": "code",
   "execution_count": null,
   "metadata": {
    "collapsed": true
   },
   "outputs": [],
   "source": [
    "glob('FinalProject/' + 'mass_training_ROI' + '_data/CBIS-DDSM/Mass-Training_P_00108_LEFT_MLO_1/*/*/*')"
   ]
  },
  {
   "cell_type": "code",
   "execution_count": null,
   "metadata": {
    "collapsed": true
   },
   "outputs": [],
   "source": [
    "import os\n",
    "os.path.getsize('FinalProject/mass_training_ROI_data/CBIS-DDSM/Mass-Training_P_00108_LEFT_MLO_1/07-21-2016-DDSM-74722/1-ROI mask images-57321/000000.dcm')"
   ]
  },
  {
   "cell_type": "code",
   "execution_count": null,
   "metadata": {
    "collapsed": true
   },
   "outputs": [],
   "source": [
    "os.path.getsize('FinalProject/mass_training_ROI_data/CBIS-DDSM/Mass-Training_P_00108_LEFT_MLO_1/07-20-2016-DDSM-43543/1-cropped images-71981/000000.dcm')"
   ]
  },
  {
   "cell_type": "code",
   "execution_count": null,
   "metadata": {
    "collapsed": true
   },
   "outputs": [],
   "source": []
  }
 ],
 "metadata": {
  "kernelspec": {
   "display_name": "Python 3",
   "language": "python",
   "name": "python3"
  },
  "language_info": {
   "codemirror_mode": {
    "name": "ipython",
    "version": 3
   },
   "file_extension": ".py",
   "mimetype": "text/x-python",
   "name": "python",
   "nbconvert_exporter": "python",
   "pygments_lexer": "ipython3",
   "version": "3.6.1"
  }
 },
 "nbformat": 4,
 "nbformat_minor": 2
}
