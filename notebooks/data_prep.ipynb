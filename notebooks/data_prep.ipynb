{
 "cells": [
  {
   "cell_type": "code",
   "execution_count": 5,
   "metadata": {},
   "outputs": [
    {
     "data": {
      "text/html": [
       "<style>\n",
       "blockquote { background: #AEDE94; }\n",
       "h1 { \n",
       "    padding-top: 25px;\n",
       "    padding-bottom: 25px;\n",
       "    text-align: left; \n",
       "    padding-left: 10px;\n",
       "    background-color: #DDDDDD; \n",
       "    color: black;\n",
       "}\n",
       "h2 { \n",
       "    padding-top: 10px;\n",
       "    padding-bottom: 10px;\n",
       "    text-align: left; \n",
       "    padding-left: 5px;\n",
       "    background-color: #EEEEEE; \n",
       "    color: black;\n",
       "}\n",
       "\n",
       "div.exercise {\n",
       "\tbackground-color: #ffcccc;\n",
       "\tborder-color: #E9967A; \t\n",
       "\tborder-left: 5px solid #800080; \n",
       "\tpadding: 0.5em;\n",
       "}\n",
       "\n",
       "span.sub-q {\n",
       "\tfont-weight: bold;\n",
       "}\n",
       "div.theme {\n",
       "\tbackground-color: #DDDDDD;\n",
       "\tborder-color: #E9967A; \t\n",
       "\tborder-left: 5px solid #800080; \n",
       "\tpadding: 0.5em;\n",
       "\tfont-size: 18pt;\n",
       "}\n",
       "div.gc { \n",
       "\tbackground-color: #AEDE94;\n",
       "\tborder-color: #E9967A; \t \n",
       "\tborder-left: 5px solid #800080; \n",
       "\tpadding: 0.5em;\n",
       "\tfont-size: 12pt;\n",
       "}\n",
       "p.q1 { \n",
       "    padding-top: 5px;\n",
       "    padding-bottom: 5px;\n",
       "    text-align: left; \n",
       "    padding-left: 5px;\n",
       "    background-color: #EEEEEE; \n",
       "    color: black;\n",
       "}\n",
       "header {\n",
       "   padding-top: 35px;\n",
       "    padding-bottom: 35px;\n",
       "    text-align: left; \n",
       "    padding-left: 10px;\n",
       "    background-color: #DDDDDD; \n",
       "    color: black;\n",
       "}\n",
       "</style>\n",
       "\n"
      ],
      "text/plain": [
       "<IPython.core.display.HTML object>"
      ]
     },
     "execution_count": 5,
     "metadata": {},
     "output_type": "execute_result"
    }
   ],
   "source": [
    "import pandas as pd\n",
    "import numpy as np\n",
    "import datetime\n",
    "import matplotlib.pyplot as plt\n",
    "from sklearn.preprocessing import PolynomialFeatures\n",
    "import pydicom as dicom\n",
    "import scipy.misc\n",
    "from glob import glob\n",
    "import os\n",
    "\n",
    "#PLEASE RUN THIS CELL \n",
    "import requests\n",
    "import os\n",
    "\n",
    "import warnings\n",
    "warnings.filterwarnings('ignore')\n",
    "\n",
    "import matplotlib.pyplot as plt\n",
    "import numpy as np\n",
    "import pandas as pd\n",
    "\n",
    "from skimage.io import imread\n",
    "from scipy.misc import imresize\n",
    "from sklearn.model_selection import train_test_split\n",
    "\n",
    "\n",
    "#from keras.models import Sequential, Model, load_model\n",
    "#from keras.layers import *\n",
    "#from keras.utils import np_utils, to_categorical\n",
    "#from keras.losses import binary_crossentropy\n",
    "#from keras import backend as K,objectives\n",
    "#from keras.losses import mse, binary_crossentropy\n",
    "#from keras.layers.advanced_activations import LeakyReLU\n",
    "#from keras.optimizers import Adam, RMSprop\n",
    "#from keras.initializers import RandomNormal\n",
    "#from keras.preprocessing import image\n",
    "\n",
    "import random\n",
    "#import cv2\n",
    "\n",
    "from PIL import Image\n",
    "\n",
    "from IPython.core.display import HTML\n",
    "styles = requests.get(\"https://raw.githubusercontent.com/Harvard-IACS/2018-CS109A/master/content/styles/cs109.css\").text\n",
    "HTML(styles)"
   ]
  },
  {
   "cell_type": "code",
   "execution_count": 6,
   "metadata": {
    "collapsed": true
   },
   "outputs": [],
   "source": [
    "DATA_FOLDER = '../raw_data'\n",
    "ATTR_FOLDER = '../attributes'\n",
    "\n",
    "datasets = ['mass']\n",
    "subsets = ['train', 'test']\n",
    "\n",
    "OUTPUT_FOLDER = '../clean_data'\n",
    "IM_OUTPUT = 'images'\n",
    "ROI_OUTPUT = 'masks'\n",
    "CROP_OUTPUT = 'crops'\n",
    "MASK_BLACKBOX_OUTPUT = 'mask_blackbox'\n",
    "\n",
    "IM_DIMS = (512, 512)"
   ]
  },
  {
   "cell_type": "code",
   "execution_count": null,
   "metadata": {
    "collapsed": true
   },
   "outputs": [],
   "source": [
    "resnet_dict = {\n",
    "    'path': [],\n",
    "    'class': [],\n",
    "}\n",
    "\n",
    "for dataset in datasets:\n",
    "    for subset in subsets:\n",
    "        df_attrs = pd.read_csv(f'{ATTR_FOLDER}/{dataset}_case_description_{subset}_set.csv')\n",
    "\n",
    "        for i in range(len(df_attrs)):\n",
    "            # get paths\n",
    "            im_path_lst = df_attrs['image file path'][i].split('/')\n",
    "            roi_path_lst = df_attrs['ROI mask file path'][i].split('/')\n",
    "            crop_path_lst = df_attrs['cropped image file path'][i].split('/')\n",
    "\n",
    "            im_path = glob(\n",
    "                f'{DATA_FOLDER}/{dataset}_{subset}ing_data/CBIS-DDSM/{im_path_lst[0]}/*/*/*'\n",
    "            )\n",
    "    \n",
    "            crop_paths = glob(\n",
    "                f'{DATA_FOLDER}/{dataset}_{subset}ing_ROI_data/CBIS-DDSM/{crop_path_lst[0]}/*/*/*'\n",
    "            )\n",
    "\n",
    "            # if images found for both types save to new folders\n",
    "            if im_path and crop_paths:\n",
    "                \n",
    "                # original image\n",
    "                try:\n",
    "                    im_pxl = dicom.dcmread(im_path[0]).pixel_array\n",
    "                except ValueError:\n",
    "                    print('Error: ')\n",
    "                    print(im_path[0])\n",
    "                \n",
    "                im_pxl = cv2.resize(im_pxl, IM_DIMS)\n",
    "                scipy.misc.imsave(f'{OUTPUT_FOLDER}/{dataset}/{subset}/{IM_OUTPUT}/{i}.tif', im_pxl)\n",
    "\n",
    "                # cropped and masks\n",
    "                crop_path1, crop_path2 = crop_paths\n",
    "                try: \n",
    "                    crop_pxl_1 = dicom.dcmread(crop_path1).pixel_array\n",
    "                    crop_pxl_2 = dicom.dcmread(crop_path2).pixel_array\n",
    "                except ValueError:\n",
    "                    print('Error: ')\n",
    "                    print(crop_path1)\n",
    "\n",
    "                # set temporary values\n",
    "                bigger = crop_pxl_1\n",
    "                smaller = crop_pxl_2\n",
    "                if os.path.getsize(crop_path1) < os.path.getsize(crop_path2):\n",
    "                    bigger = crop_pxl_2\n",
    "                    smaller = crop_pxl_1\n",
    "\n",
    "                smaller = cv2.resize(smaller, IM_DIMS)\n",
    "                bigger = cv2.resize(bigger, IM_DIMS)\n",
    "\n",
    "                scipy.misc.imsave(f'{OUTPUT_FOLDER}/{dataset}/{subset}/{CROP_OUTPUT}/{i}.tif', smaller)\n",
    "                scipy.misc.imsave(f'{OUTPUT_FOLDER}/{dataset}/{subset}/{ROI_OUTPUT}/{i}.tif', bigger)\n",
    "\n",
    "                # save blackbox images\n",
    "                if df_attrs.pathology[i] != 'MALIGNANT':\n",
    "                    clss = 0\n",
    "                    scipy.misc.imsave(\n",
    "                        f'{OUTPUT_FOLDER}/{dataset}/{subset}/{MASK_BLACKBOX_OUTPUT}/{i}.tif', \n",
    "                        np.zeros(IM_DIMS),\n",
    "                    )\n",
    "                else:\n",
    "                    clss = 1\n",
    "                    scipy.misc.imsave(f'{OUTPUT_FOLDER}/{dataset}/{subset}/{MASK_BLACKBOX_OUTPUT}/{i}.tif', bigger)\n",
    "\n",
    "                # add to DataFrame\n",
    "                resnet_dict['path'].append(f'{i}.tif')\n",
    "                resnet_dict['class'].append(clss)\n",
    "\n",
    "        pd.DataFrame(resnet_dict).to_csv(f'{OUTPUT_FOLDER}/{dataset}/{subset}/resnet_data.csv')"
   ]
  },
  {
   "cell_type": "code",
   "execution_count": null,
   "metadata": {
    "collapsed": true
   },
   "outputs": [],
   "source": []
  },
  {
   "cell_type": "code",
   "execution_count": null,
   "metadata": {
    "collapsed": true
   },
   "outputs": [],
   "source": []
  },
  {
   "cell_type": "code",
   "execution_count": null,
   "metadata": {
    "collapsed": true
   },
   "outputs": [],
   "source": []
  },
  {
   "cell_type": "code",
   "execution_count": null,
   "metadata": {
    "collapsed": true
   },
   "outputs": [],
   "source": []
  },
  {
   "cell_type": "code",
   "execution_count": null,
   "metadata": {
    "collapsed": true
   },
   "outputs": [],
   "source": []
  },
  {
   "cell_type": "code",
   "execution_count": null,
   "metadata": {
    "collapsed": true
   },
   "outputs": [],
   "source": []
  }
 ],
 "metadata": {
  "kernelspec": {
   "display_name": "Python [conda env:friendsproject] *",
   "language": "python",
   "name": "conda-env-friendsproject-py"
  },
  "language_info": {
   "codemirror_mode": {
    "name": "ipython",
    "version": 3
   },
   "file_extension": ".py",
   "mimetype": "text/x-python",
   "name": "python",
   "nbconvert_exporter": "python",
   "pygments_lexer": "ipython3",
   "version": "3.6.8"
  }
 },
 "nbformat": 4,
 "nbformat_minor": 2
}
